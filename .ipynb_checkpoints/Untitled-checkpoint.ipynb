{
 "cells": [
  {
   "cell_type": "code",
   "execution_count": 40,
   "metadata": {},
   "outputs": [
    {
     "ename": "SyntaxError",
     "evalue": "invalid syntax (<ipython-input-40-ea897d9ca507>, line 1)",
     "output_type": "error",
     "traceback": [
      "\u001b[1;36m  File \u001b[1;32m\"<ipython-input-40-ea897d9ca507>\"\u001b[1;36m, line \u001b[1;32m1\u001b[0m\n\u001b[1;33m    93ae7aea04034889be6dc63a74ce87a3\u001b[0m\n\u001b[1;37m                                   ^\u001b[0m\n\u001b[1;31mSyntaxError\u001b[0m\u001b[1;31m:\u001b[0m invalid syntax\n"
     ]
    }
   ],
   "source": [
    "93ae7aea04034889be6dc63a74ce87a3"
   ]
  },
  {
   "cell_type": "code",
   "execution_count": 39,
   "metadata": {},
   "outputs": [
    {
     "name": "stdout",
     "output_type": "stream",
     "text": [
      "{'usage': {'text_units': 1, 'text_characters': 244, 'features': 2}, 'sentiment': {'document': {'score': 0.804241, 'label': 'positive'}}, 'language': 'en', 'keywords': [{'text': 'true meaning', 'relevance': 0.963321}, {'text': 'dream', 'relevance': 0.860575}, {'text': 'American dream', 'relevance': 0.676074}, {'text': 'truths', 'relevance': 0.538212}, {'text': 'creed', 'relevance': 0.525472}, {'text': 'nation', 'relevance': 0.432921}, {'text': 'men', 'relevance': 0.421158}]}\n"
     ]
    }
   ],
   "source": [
    "import requests\n",
    "\n",
    "headers = {\n",
    "    'Content-Type': 'application/json',\n",
    "}\n",
    "\n",
    "params = (\n",
    "    ('version', '2018-03-19'),\n",
    ")\n",
    "\n",
    "data = '{\\n  \"text\": \"I still have a dream. It is a dream deeply rooted in the American dream. I have a dream that one day this nation will rise up and live out the true meaning of its creed: \\\\\"We hold these truths to be self-evident, that all men are created equal.\\\\\"\",\\n  \"features\": {\\n    \"sentiment\": {},\\n    \"keywords\": {}\\n  }\\n}'\n",
    "\n",
    "response = requests.post('https://gateway.watsonplatform.net/natural-language-understanding/api/v1/analyze', headers=headers, params=params, data=data, auth=('b458e597-20ed-4f36-b679-cdd95d10ff78', 'mFJdlIlsQyuN'))\n",
    "\n",
    "print (response.json())\n",
    "\n",
    "#NB. Original query string below. It seems impossible to parse and\n",
    "#reproduce query strings 100% accurately so the one below is given\n",
    "#in case the reproduced version is not \"correct\".\n",
    "# response = requests.post('https://gateway.watsonplatform.net/natural-language-understanding/api/v1/analyze?version=2018-03-19', headers=headers, data=data, auth=('b458e597-20ed-4f36-b679-cdd95d10ff78', 'mFJdlIlsQyuN'))\n"
   ]
  },
  {
   "cell_type": "code",
   "execution_count": 41,
   "metadata": {},
   "outputs": [
    {
     "ename": "ModuleNotFoundError",
     "evalue": "No module named 'algoliasearch'",
     "output_type": "error",
     "traceback": [
      "\u001b[1;31m---------------------------------------------------------------------------\u001b[0m",
      "\u001b[1;31mModuleNotFoundError\u001b[0m                       Traceback (most recent call last)",
      "\u001b[1;32m<ipython-input-41-c3cc3ef3a62c>\u001b[0m in \u001b[0;36m<module>\u001b[1;34m()\u001b[0m\n\u001b[1;32m----> 1\u001b[1;33m \u001b[1;32mfrom\u001b[0m \u001b[0malgoliasearch\u001b[0m \u001b[1;32mimport\u001b[0m \u001b[0malgoliasearch\u001b[0m\u001b[1;33m\u001b[0m\u001b[0m\n\u001b[0m\u001b[0;32m      2\u001b[0m \u001b[1;33m\u001b[0m\u001b[0m\n\u001b[0;32m      3\u001b[0m \u001b[0mclient\u001b[0m \u001b[1;33m=\u001b[0m \u001b[0malgoliasearch\u001b[0m\u001b[1;33m.\u001b[0m\u001b[0mClient\u001b[0m\u001b[1;33m(\u001b[0m\u001b[1;34m\"6SQZFEPMJJ\"\u001b[0m\u001b[1;33m,\u001b[0m \u001b[1;34m'00fbcfa888e6c0f6ef91cae2744239fe'\u001b[0m\u001b[1;33m)\u001b[0m\u001b[1;33m\u001b[0m\u001b[0m\n\u001b[0;32m      4\u001b[0m \u001b[0mindex\u001b[0m \u001b[1;33m=\u001b[0m \u001b[0mclient\u001b[0m\u001b[1;33m.\u001b[0m\u001b[0minit_index\u001b[0m\u001b[1;33m(\u001b[0m\u001b[1;34m'your_index_name'\u001b[0m\u001b[1;33m)\u001b[0m\u001b[1;33m\u001b[0m\u001b[0m\n",
      "\u001b[1;31mModuleNotFoundError\u001b[0m: No module named 'algoliasearch'"
     ]
    }
   ],
   "source": [
    "from algoliasearch import algoliasearch\n",
    "\n",
    "client = algoliasearch.Client(\"6SQZFEPMJJ\", '00fbcfa888e6c0f6ef91cae2744239fe')\n",
    "index = client.init_index('your_index_name')\n"
   ]
  }
 ],
 "metadata": {
  "kernelspec": {
   "display_name": "Python 3",
   "language": "python",
   "name": "python3"
  },
  "language_info": {
   "codemirror_mode": {
    "name": "ipython",
    "version": 3
   },
   "file_extension": ".py",
   "mimetype": "text/x-python",
   "name": "python",
   "nbconvert_exporter": "python",
   "pygments_lexer": "ipython3",
   "version": "3.6.3"
  }
 },
 "nbformat": 4,
 "nbformat_minor": 2
}
